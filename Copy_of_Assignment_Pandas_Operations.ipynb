{
  "nbformat": 4,
  "nbformat_minor": 0,
  "metadata": {
    "kernelspec": {
      "display_name": "Python 3",
      "language": "python",
      "name": "python3"
    },
    "language_info": {
      "codemirror_mode": {
        "name": "ipython",
        "version": 3
      },
      "file_extension": ".py",
      "mimetype": "text/x-python",
      "name": "python",
      "nbconvert_exporter": "python",
      "pygments_lexer": "ipython3",
      "version": "3.7.1"
    },
    "colab": {
      "name": "Copy of Assignment - Pandas Operations.ipynb",
      "provenance": [],
      "collapsed_sections": [],
      "include_colab_link": true
    }
  },
  "cells": [
    {
      "cell_type": "markdown",
      "metadata": {
        "id": "view-in-github",
        "colab_type": "text"
      },
      "source": [
        "<a href=\"https://colab.research.google.com/github/Sriharish19/Machine-learning-module-Assignments/blob/main/Copy_of_Assignment_Pandas_Operations.ipynb\" target=\"_parent\"><img src=\"https://colab.research.google.com/assets/colab-badge.svg\" alt=\"Open In Colab\"/></a>"
      ]
    },
    {
      "cell_type": "markdown",
      "metadata": {
        "id": "WEPecVgEVrP_"
      },
      "source": [
        "## <u> Use only those concepts which have been taught till now </u>"
      ]
    },
    {
      "cell_type": "markdown",
      "metadata": {
        "id": "UCW8FaGk-pd0"
      },
      "source": [
        "# <b> Problem 1: Import Pandas and Numpy in the notebook </b>"
      ]
    },
    {
      "cell_type": "code",
      "metadata": {
        "id": "jI39LRd3-pd2"
      },
      "source": [
        "# Import statements\n",
        "import pandas as pd\n",
        "import numpy as np"
      ],
      "execution_count": null,
      "outputs": []
    },
    {
      "cell_type": "markdown",
      "metadata": {
        "id": "QlQXvEQN-pd9"
      },
      "source": [
        "# <b> Problem 2 : Load the automobile_data.csv kept in the shared folder"
      ]
    },
    {
      "cell_type": "code",
      "metadata": {
        "id": "3WUSC_18-peA",
        "outputId": "1f2b9ab9-7261-46ed-eb8d-c63888647427",
        "colab": {
          "base_uri": "https://localhost:8080/"
        }
      },
      "source": [
        "# Mount your drive and read the csv file. Make sure you are using the correct file path\n",
        "from google.colab import drive\n",
        "drive.mount('/content/drive')\n",
        "df=pd.read_csv('/content/drive/MyDrive/Copy of automobile_data.csv')\n"
      ],
      "execution_count": null,
      "outputs": [
        {
          "output_type": "stream",
          "name": "stdout",
          "text": [
            "Mounted at /content/drive\n"
          ]
        }
      ]
    },
    {
      "cell_type": "markdown",
      "metadata": {
        "id": "PH1F_Um_-peG"
      },
      "source": [
        "# <b> Problem 3 : Do a basic inspection and print the first and last 15 rows of your dataframe"
      ]
    },
    {
      "cell_type": "code",
      "metadata": {
        "id": "pfsMFefk-peH",
        "outputId": "cf284939-4ec7-479d-90d9-850644ceebe9",
        "colab": {
          "base_uri": "https://localhost:8080/"
        }
      },
      "source": [
        "# Your code here\n",
        "print(df.head(15))\n",
        "print(df.tail(15))"
      ],
      "execution_count": null,
      "outputs": [
        {
          "output_type": "stream",
          "name": "stdout",
          "text": [
            "    symboling normalized-losses         make fuel-type aspiration  \\\n",
            "0           3                 ?  alfa-romero       gas        std   \n",
            "1           3                 ?  alfa-romero       gas        std   \n",
            "2           1                 ?  alfa-romero       gas        std   \n",
            "3           2               164         audi       gas        std   \n",
            "4           2               164         audi       gas        std   \n",
            "5           2                 ?         audi       gas        std   \n",
            "6           1               158         audi       gas        std   \n",
            "7           1                 ?         audi       gas        std   \n",
            "8           1               158         audi       gas      turbo   \n",
            "9           0                 ?         audi       gas      turbo   \n",
            "10          2               192          bmw       gas        std   \n",
            "11          0               192          bmw       gas        std   \n",
            "12          0               188          bmw       gas        std   \n",
            "13          0               188          bmw       gas        std   \n",
            "14          1                 ?          bmw       gas        std   \n",
            "\n",
            "   num-of-doors   body-style drive-wheels engine-location  wheel-base  ...  \\\n",
            "0           two  convertible          rwd           front        88.6  ...   \n",
            "1           two  convertible          rwd           front        88.6  ...   \n",
            "2           two    hatchback          rwd           front        94.5  ...   \n",
            "3          four        sedan          fwd           front        99.8  ...   \n",
            "4          four        sedan          4wd           front        99.4  ...   \n",
            "5           two        sedan          fwd           front        99.8  ...   \n",
            "6          four        sedan          fwd           front       105.8  ...   \n",
            "7          four        wagon          fwd           front       105.8  ...   \n",
            "8          four        sedan          fwd           front       105.8  ...   \n",
            "9           two    hatchback          4wd           front        99.5  ...   \n",
            "10          two        sedan          rwd           front       101.2  ...   \n",
            "11         four        sedan          rwd           front       101.2  ...   \n",
            "12          two        sedan          rwd           front       101.2  ...   \n",
            "13         four        sedan          rwd           front       101.2  ...   \n",
            "14         four        sedan          rwd           front       103.5  ...   \n",
            "\n",
            "    engine-size  fuel-system  bore  stroke compression-ratio horsepower  \\\n",
            "0           130         mpfi  3.47    2.68               9.0        111   \n",
            "1           130         mpfi  3.47    2.68               9.0        111   \n",
            "2           152         mpfi  2.68    3.47               9.0        154   \n",
            "3           109         mpfi  3.19     3.4              10.0        102   \n",
            "4           136         mpfi  3.19     3.4               8.0        115   \n",
            "5           136         mpfi  3.19     3.4               8.5        110   \n",
            "6           136         mpfi  3.19     3.4               8.5        110   \n",
            "7           136         mpfi  3.19     3.4               8.5        110   \n",
            "8           131         mpfi  3.13     3.4               8.3        140   \n",
            "9           131         mpfi  3.13     3.4               7.0        160   \n",
            "10          108         mpfi   3.5     2.8               8.8        101   \n",
            "11          108         mpfi   3.5     2.8               8.8        101   \n",
            "12          164         mpfi  3.31    3.19               9.0        121   \n",
            "13          164         mpfi  3.31    3.19               9.0        121   \n",
            "14          164         mpfi  3.31    3.19               9.0        121   \n",
            "\n",
            "    peak-rpm city-mpg highway-mpg  price  \n",
            "0       5000       21          27  13495  \n",
            "1       5000       21          27  16500  \n",
            "2       5000       19          26  16500  \n",
            "3       5500       24          30  13950  \n",
            "4       5500       18          22  17450  \n",
            "5       5500       19          25  15250  \n",
            "6       5500       19          25  17710  \n",
            "7       5500       19          25  18920  \n",
            "8       5500       17          20  23875  \n",
            "9       5500       16          22      ?  \n",
            "10      5800       23          29  16430  \n",
            "11      5800       23          29  16925  \n",
            "12      4250       21          28  20970  \n",
            "13      4250       21          28  21105  \n",
            "14      4250       20          25  24565  \n",
            "\n",
            "[15 rows x 26 columns]\n",
            "     symboling normalized-losses        make fuel-type aspiration  \\\n",
            "190          3               256  volkswagen       gas        std   \n",
            "191          0                 ?  volkswagen       gas        std   \n",
            "192          0                 ?  volkswagen    diesel      turbo   \n",
            "193          0                 ?  volkswagen       gas        std   \n",
            "194         -2               103       volvo       gas        std   \n",
            "195         -1                74       volvo       gas        std   \n",
            "196         -2               103       volvo       gas        std   \n",
            "197         -1                74       volvo       gas        std   \n",
            "198         -2               103       volvo       gas      turbo   \n",
            "199         -1                74       volvo       gas      turbo   \n",
            "200         -1                95       volvo       gas        std   \n",
            "201         -1                95       volvo       gas      turbo   \n",
            "202         -1                95       volvo       gas        std   \n",
            "203         -1                95       volvo    diesel      turbo   \n",
            "204         -1                95       volvo       gas      turbo   \n",
            "\n",
            "    num-of-doors body-style drive-wheels engine-location  wheel-base  ...  \\\n",
            "190          two  hatchback          fwd           front        94.5  ...   \n",
            "191         four      sedan          fwd           front       100.4  ...   \n",
            "192         four      sedan          fwd           front       100.4  ...   \n",
            "193         four      wagon          fwd           front       100.4  ...   \n",
            "194         four      sedan          rwd           front       104.3  ...   \n",
            "195         four      wagon          rwd           front       104.3  ...   \n",
            "196         four      sedan          rwd           front       104.3  ...   \n",
            "197         four      wagon          rwd           front       104.3  ...   \n",
            "198         four      sedan          rwd           front       104.3  ...   \n",
            "199         four      wagon          rwd           front       104.3  ...   \n",
            "200         four      sedan          rwd           front       109.1  ...   \n",
            "201         four      sedan          rwd           front       109.1  ...   \n",
            "202         four      sedan          rwd           front       109.1  ...   \n",
            "203         four      sedan          rwd           front       109.1  ...   \n",
            "204         four      sedan          rwd           front       109.1  ...   \n",
            "\n",
            "     engine-size  fuel-system  bore  stroke compression-ratio horsepower  \\\n",
            "190          109         mpfi  3.19     3.4               8.5         90   \n",
            "191          136         mpfi  3.19     3.4               8.5        110   \n",
            "192           97          idi  3.01     3.4              23.0         68   \n",
            "193          109         mpfi  3.19     3.4               9.0         88   \n",
            "194          141         mpfi  3.78    3.15               9.5        114   \n",
            "195          141         mpfi  3.78    3.15               9.5        114   \n",
            "196          141         mpfi  3.78    3.15               9.5        114   \n",
            "197          141         mpfi  3.78    3.15               9.5        114   \n",
            "198          130         mpfi  3.62    3.15               7.5        162   \n",
            "199          130         mpfi  3.62    3.15               7.5        162   \n",
            "200          141         mpfi  3.78    3.15               9.5        114   \n",
            "201          141         mpfi  3.78    3.15               8.7        160   \n",
            "202          173         mpfi  3.58    2.87               8.8        134   \n",
            "203          145          idi  3.01     3.4              23.0        106   \n",
            "204          141         mpfi  3.78    3.15               9.5        114   \n",
            "\n",
            "     peak-rpm city-mpg highway-mpg  price  \n",
            "190      5500       24          29   9980  \n",
            "191      5500       19          24  13295  \n",
            "192      4500       33          38  13845  \n",
            "193      5500       25          31  12290  \n",
            "194      5400       23          28  12940  \n",
            "195      5400       23          28  13415  \n",
            "196      5400       24          28  15985  \n",
            "197      5400       24          28  16515  \n",
            "198      5100       17          22  18420  \n",
            "199      5100       17          22  18950  \n",
            "200      5400       23          28  16845  \n",
            "201      5300       19          25  19045  \n",
            "202      5500       18          23  21485  \n",
            "203      4800       26          27  22470  \n",
            "204      5400       19          25  22625  \n",
            "\n",
            "[15 rows x 26 columns]\n"
          ]
        }
      ]
    },
    {
      "cell_type": "markdown",
      "metadata": {
        "id": "4NfjE6Zi-peN"
      },
      "source": [
        "# <b>Problem 4 : You need to clean the data a little bit now. Replace all column values with the values <code>?</code> and <code>n.a</code> with <code>NaN</code>"
      ]
    },
    {
      "cell_type": "code",
      "metadata": {
        "id": "oP498Mmj-peO"
      },
      "source": [
        "# Your code here\n",
        "df_new=df.replace(('?','n.a'),'NaN')"
      ],
      "execution_count": null,
      "outputs": []
    },
    {
      "cell_type": "markdown",
      "metadata": {
        "id": "r00eoWW5-peY"
      },
      "source": [
        "# <b>Problem 5 : Print the company name which manufactured the most expensive car. Also print the price of the most expensive car"
      ]
    },
    {
      "cell_type": "code",
      "metadata": {
        "id": "9wkVhCBt-peZ",
        "outputId": "9ee759da-ab30-4b3d-a3ba-2e7fb1c65c01",
        "colab": {
          "base_uri": "https://localhost:8080/"
        }
      },
      "source": [
        "# Your code here\n",
        "df_new[['make','horsepower']].groupby(['make'])['horsepower'].max()"
      ],
      "execution_count": null,
      "outputs": [
        {
          "output_type": "execute_result",
          "data": {
            "text/plain": [
              "make\n",
              "alfa-romero      154\n",
              "audi             160\n",
              "bmw              182\n",
              "chevrolet         70\n",
              "dodge             88\n",
              "honda             86\n",
              "isuzu             90\n",
              "jaguar           262\n",
              "mazda             84\n",
              "mercedes-benz    184\n",
              "mercury          175\n",
              "mitsubishi        88\n",
              "nissan            97\n",
              "peugot            97\n",
              "plymouth          88\n",
              "porsche          288\n",
              "renault          NaN\n",
              "saab             160\n",
              "subaru            94\n",
              "toyota            92\n",
              "volkswagen        90\n",
              "volvo            162\n",
              "Name: horsepower, dtype: object"
            ]
          },
          "metadata": {},
          "execution_count": 37
        }
      ]
    },
    {
      "cell_type": "markdown",
      "metadata": {
        "id": "e1HgPqG4-per"
      },
      "source": [
        "# <b>Problem 6 : Calculate maximum horsepowers for each company. </b>"
      ]
    },
    {
      "cell_type": "code",
      "metadata": {
        "id": "6BhyXGRT-pes",
        "outputId": "3f6e7538-9ae8-4cc0-f63e-59be15f9802d",
        "colab": {
          "base_uri": "https://localhost:8080/"
        }
      },
      "source": [
        "# Your code here\n",
        "df_new.groupby(['make'])['horsepower'].max()"
      ],
      "execution_count": null,
      "outputs": [
        {
          "output_type": "execute_result",
          "data": {
            "text/plain": [
              "make\n",
              "alfa-romero      154\n",
              "audi             160\n",
              "bmw              182\n",
              "chevrolet         70\n",
              "dodge             88\n",
              "honda             86\n",
              "isuzu             90\n",
              "jaguar           262\n",
              "mazda             84\n",
              "mercedes-benz    184\n",
              "mercury          175\n",
              "mitsubishi        88\n",
              "nissan            97\n",
              "peugot            97\n",
              "plymouth          88\n",
              "porsche          288\n",
              "renault          NaN\n",
              "saab             160\n",
              "subaru            94\n",
              "toyota            92\n",
              "volkswagen        90\n",
              "volvo            162\n",
              "Name: horsepower, dtype: object"
            ]
          },
          "metadata": {},
          "execution_count": 36
        }
      ]
    },
    {
      "cell_type": "code",
      "source": [
        "df_new"
      ],
      "metadata": {
        "id": "RenkMJRrhJPu",
        "outputId": "ef49bafa-ca22-4dbc-e664-7a6c6f65bb45",
        "colab": {
          "base_uri": "https://localhost:8080/",
          "height": 575
        }
      },
      "execution_count": null,
      "outputs": [
        {
          "output_type": "execute_result",
          "data": {
            "text/plain": [
              "     symboling normalized-losses         make fuel-type aspiration  \\\n",
              "0            3               NaN  alfa-romero       gas        std   \n",
              "1            3               NaN  alfa-romero       gas        std   \n",
              "2            1               NaN  alfa-romero       gas        std   \n",
              "3            2               164         audi       gas        std   \n",
              "4            2               164         audi       gas        std   \n",
              "..         ...               ...          ...       ...        ...   \n",
              "200         -1                95        volvo       gas        std   \n",
              "201         -1                95        volvo       gas      turbo   \n",
              "202         -1                95        volvo       gas        std   \n",
              "203         -1                95        volvo    diesel      turbo   \n",
              "204         -1                95        volvo       gas      turbo   \n",
              "\n",
              "    num-of-doors   body-style drive-wheels engine-location  wheel-base  ...  \\\n",
              "0            two  convertible          rwd           front        88.6  ...   \n",
              "1            two  convertible          rwd           front        88.6  ...   \n",
              "2            two    hatchback          rwd           front        94.5  ...   \n",
              "3           four        sedan          fwd           front        99.8  ...   \n",
              "4           four        sedan          4wd           front        99.4  ...   \n",
              "..           ...          ...          ...             ...         ...  ...   \n",
              "200         four        sedan          rwd           front       109.1  ...   \n",
              "201         four        sedan          rwd           front       109.1  ...   \n",
              "202         four        sedan          rwd           front       109.1  ...   \n",
              "203         four        sedan          rwd           front       109.1  ...   \n",
              "204         four        sedan          rwd           front       109.1  ...   \n",
              "\n",
              "     bore  stroke  compression-ratio  horsepower peak-rpm city-mpg  \\\n",
              "0    3.47    2.68                9.0         111     5000       21   \n",
              "1    3.47    2.68                9.0         111     5000       21   \n",
              "2    2.68    3.47                9.0         154     5000       19   \n",
              "3    3.19     3.4               10.0         102     5500       24   \n",
              "4    3.19     3.4                8.0         115     5500       18   \n",
              "..    ...     ...                ...         ...      ...      ...   \n",
              "200  3.78    3.15                9.5         114     5400       23   \n",
              "201  3.78    3.15                8.7         160     5300       19   \n",
              "202  3.58    2.87                8.8         134     5500       18   \n",
              "203  3.01     3.4               23.0         106     4800       26   \n",
              "204  3.78    3.15                9.5         114     5400       19   \n",
              "\n",
              "     highway-mpg  price door integers updated price  \n",
              "0             27  13495             2         13495  \n",
              "1             27  16500             2         16500  \n",
              "2             26  16500             2         16500  \n",
              "3             30  13950             4         13950  \n",
              "4             22  17450             4         17450  \n",
              "..           ...    ...           ...           ...  \n",
              "200           28  16845             4         16845  \n",
              "201           25  19045             4         19045  \n",
              "202           23  21485             4         21485  \n",
              "203           27  22470             4         22470  \n",
              "204           25  22625             4         22625  \n",
              "\n",
              "[205 rows x 28 columns]"
            ],
            "text/html": [
              "\n",
              "  <div id=\"df-76979936-b75b-49f7-b1a2-a3dad3532a20\">\n",
              "    <div class=\"colab-df-container\">\n",
              "      <div>\n",
              "<style scoped>\n",
              "    .dataframe tbody tr th:only-of-type {\n",
              "        vertical-align: middle;\n",
              "    }\n",
              "\n",
              "    .dataframe tbody tr th {\n",
              "        vertical-align: top;\n",
              "    }\n",
              "\n",
              "    .dataframe thead th {\n",
              "        text-align: right;\n",
              "    }\n",
              "</style>\n",
              "<table border=\"1\" class=\"dataframe\">\n",
              "  <thead>\n",
              "    <tr style=\"text-align: right;\">\n",
              "      <th></th>\n",
              "      <th>symboling</th>\n",
              "      <th>normalized-losses</th>\n",
              "      <th>make</th>\n",
              "      <th>fuel-type</th>\n",
              "      <th>aspiration</th>\n",
              "      <th>num-of-doors</th>\n",
              "      <th>body-style</th>\n",
              "      <th>drive-wheels</th>\n",
              "      <th>engine-location</th>\n",
              "      <th>wheel-base</th>\n",
              "      <th>...</th>\n",
              "      <th>bore</th>\n",
              "      <th>stroke</th>\n",
              "      <th>compression-ratio</th>\n",
              "      <th>horsepower</th>\n",
              "      <th>peak-rpm</th>\n",
              "      <th>city-mpg</th>\n",
              "      <th>highway-mpg</th>\n",
              "      <th>price</th>\n",
              "      <th>door integers</th>\n",
              "      <th>updated price</th>\n",
              "    </tr>\n",
              "  </thead>\n",
              "  <tbody>\n",
              "    <tr>\n",
              "      <th>0</th>\n",
              "      <td>3</td>\n",
              "      <td>NaN</td>\n",
              "      <td>alfa-romero</td>\n",
              "      <td>gas</td>\n",
              "      <td>std</td>\n",
              "      <td>two</td>\n",
              "      <td>convertible</td>\n",
              "      <td>rwd</td>\n",
              "      <td>front</td>\n",
              "      <td>88.6</td>\n",
              "      <td>...</td>\n",
              "      <td>3.47</td>\n",
              "      <td>2.68</td>\n",
              "      <td>9.0</td>\n",
              "      <td>111</td>\n",
              "      <td>5000</td>\n",
              "      <td>21</td>\n",
              "      <td>27</td>\n",
              "      <td>13495</td>\n",
              "      <td>2</td>\n",
              "      <td>13495</td>\n",
              "    </tr>\n",
              "    <tr>\n",
              "      <th>1</th>\n",
              "      <td>3</td>\n",
              "      <td>NaN</td>\n",
              "      <td>alfa-romero</td>\n",
              "      <td>gas</td>\n",
              "      <td>std</td>\n",
              "      <td>two</td>\n",
              "      <td>convertible</td>\n",
              "      <td>rwd</td>\n",
              "      <td>front</td>\n",
              "      <td>88.6</td>\n",
              "      <td>...</td>\n",
              "      <td>3.47</td>\n",
              "      <td>2.68</td>\n",
              "      <td>9.0</td>\n",
              "      <td>111</td>\n",
              "      <td>5000</td>\n",
              "      <td>21</td>\n",
              "      <td>27</td>\n",
              "      <td>16500</td>\n",
              "      <td>2</td>\n",
              "      <td>16500</td>\n",
              "    </tr>\n",
              "    <tr>\n",
              "      <th>2</th>\n",
              "      <td>1</td>\n",
              "      <td>NaN</td>\n",
              "      <td>alfa-romero</td>\n",
              "      <td>gas</td>\n",
              "      <td>std</td>\n",
              "      <td>two</td>\n",
              "      <td>hatchback</td>\n",
              "      <td>rwd</td>\n",
              "      <td>front</td>\n",
              "      <td>94.5</td>\n",
              "      <td>...</td>\n",
              "      <td>2.68</td>\n",
              "      <td>3.47</td>\n",
              "      <td>9.0</td>\n",
              "      <td>154</td>\n",
              "      <td>5000</td>\n",
              "      <td>19</td>\n",
              "      <td>26</td>\n",
              "      <td>16500</td>\n",
              "      <td>2</td>\n",
              "      <td>16500</td>\n",
              "    </tr>\n",
              "    <tr>\n",
              "      <th>3</th>\n",
              "      <td>2</td>\n",
              "      <td>164</td>\n",
              "      <td>audi</td>\n",
              "      <td>gas</td>\n",
              "      <td>std</td>\n",
              "      <td>four</td>\n",
              "      <td>sedan</td>\n",
              "      <td>fwd</td>\n",
              "      <td>front</td>\n",
              "      <td>99.8</td>\n",
              "      <td>...</td>\n",
              "      <td>3.19</td>\n",
              "      <td>3.4</td>\n",
              "      <td>10.0</td>\n",
              "      <td>102</td>\n",
              "      <td>5500</td>\n",
              "      <td>24</td>\n",
              "      <td>30</td>\n",
              "      <td>13950</td>\n",
              "      <td>4</td>\n",
              "      <td>13950</td>\n",
              "    </tr>\n",
              "    <tr>\n",
              "      <th>4</th>\n",
              "      <td>2</td>\n",
              "      <td>164</td>\n",
              "      <td>audi</td>\n",
              "      <td>gas</td>\n",
              "      <td>std</td>\n",
              "      <td>four</td>\n",
              "      <td>sedan</td>\n",
              "      <td>4wd</td>\n",
              "      <td>front</td>\n",
              "      <td>99.4</td>\n",
              "      <td>...</td>\n",
              "      <td>3.19</td>\n",
              "      <td>3.4</td>\n",
              "      <td>8.0</td>\n",
              "      <td>115</td>\n",
              "      <td>5500</td>\n",
              "      <td>18</td>\n",
              "      <td>22</td>\n",
              "      <td>17450</td>\n",
              "      <td>4</td>\n",
              "      <td>17450</td>\n",
              "    </tr>\n",
              "    <tr>\n",
              "      <th>...</th>\n",
              "      <td>...</td>\n",
              "      <td>...</td>\n",
              "      <td>...</td>\n",
              "      <td>...</td>\n",
              "      <td>...</td>\n",
              "      <td>...</td>\n",
              "      <td>...</td>\n",
              "      <td>...</td>\n",
              "      <td>...</td>\n",
              "      <td>...</td>\n",
              "      <td>...</td>\n",
              "      <td>...</td>\n",
              "      <td>...</td>\n",
              "      <td>...</td>\n",
              "      <td>...</td>\n",
              "      <td>...</td>\n",
              "      <td>...</td>\n",
              "      <td>...</td>\n",
              "      <td>...</td>\n",
              "      <td>...</td>\n",
              "      <td>...</td>\n",
              "    </tr>\n",
              "    <tr>\n",
              "      <th>200</th>\n",
              "      <td>-1</td>\n",
              "      <td>95</td>\n",
              "      <td>volvo</td>\n",
              "      <td>gas</td>\n",
              "      <td>std</td>\n",
              "      <td>four</td>\n",
              "      <td>sedan</td>\n",
              "      <td>rwd</td>\n",
              "      <td>front</td>\n",
              "      <td>109.1</td>\n",
              "      <td>...</td>\n",
              "      <td>3.78</td>\n",
              "      <td>3.15</td>\n",
              "      <td>9.5</td>\n",
              "      <td>114</td>\n",
              "      <td>5400</td>\n",
              "      <td>23</td>\n",
              "      <td>28</td>\n",
              "      <td>16845</td>\n",
              "      <td>4</td>\n",
              "      <td>16845</td>\n",
              "    </tr>\n",
              "    <tr>\n",
              "      <th>201</th>\n",
              "      <td>-1</td>\n",
              "      <td>95</td>\n",
              "      <td>volvo</td>\n",
              "      <td>gas</td>\n",
              "      <td>turbo</td>\n",
              "      <td>four</td>\n",
              "      <td>sedan</td>\n",
              "      <td>rwd</td>\n",
              "      <td>front</td>\n",
              "      <td>109.1</td>\n",
              "      <td>...</td>\n",
              "      <td>3.78</td>\n",
              "      <td>3.15</td>\n",
              "      <td>8.7</td>\n",
              "      <td>160</td>\n",
              "      <td>5300</td>\n",
              "      <td>19</td>\n",
              "      <td>25</td>\n",
              "      <td>19045</td>\n",
              "      <td>4</td>\n",
              "      <td>19045</td>\n",
              "    </tr>\n",
              "    <tr>\n",
              "      <th>202</th>\n",
              "      <td>-1</td>\n",
              "      <td>95</td>\n",
              "      <td>volvo</td>\n",
              "      <td>gas</td>\n",
              "      <td>std</td>\n",
              "      <td>four</td>\n",
              "      <td>sedan</td>\n",
              "      <td>rwd</td>\n",
              "      <td>front</td>\n",
              "      <td>109.1</td>\n",
              "      <td>...</td>\n",
              "      <td>3.58</td>\n",
              "      <td>2.87</td>\n",
              "      <td>8.8</td>\n",
              "      <td>134</td>\n",
              "      <td>5500</td>\n",
              "      <td>18</td>\n",
              "      <td>23</td>\n",
              "      <td>21485</td>\n",
              "      <td>4</td>\n",
              "      <td>21485</td>\n",
              "    </tr>\n",
              "    <tr>\n",
              "      <th>203</th>\n",
              "      <td>-1</td>\n",
              "      <td>95</td>\n",
              "      <td>volvo</td>\n",
              "      <td>diesel</td>\n",
              "      <td>turbo</td>\n",
              "      <td>four</td>\n",
              "      <td>sedan</td>\n",
              "      <td>rwd</td>\n",
              "      <td>front</td>\n",
              "      <td>109.1</td>\n",
              "      <td>...</td>\n",
              "      <td>3.01</td>\n",
              "      <td>3.4</td>\n",
              "      <td>23.0</td>\n",
              "      <td>106</td>\n",
              "      <td>4800</td>\n",
              "      <td>26</td>\n",
              "      <td>27</td>\n",
              "      <td>22470</td>\n",
              "      <td>4</td>\n",
              "      <td>22470</td>\n",
              "    </tr>\n",
              "    <tr>\n",
              "      <th>204</th>\n",
              "      <td>-1</td>\n",
              "      <td>95</td>\n",
              "      <td>volvo</td>\n",
              "      <td>gas</td>\n",
              "      <td>turbo</td>\n",
              "      <td>four</td>\n",
              "      <td>sedan</td>\n",
              "      <td>rwd</td>\n",
              "      <td>front</td>\n",
              "      <td>109.1</td>\n",
              "      <td>...</td>\n",
              "      <td>3.78</td>\n",
              "      <td>3.15</td>\n",
              "      <td>9.5</td>\n",
              "      <td>114</td>\n",
              "      <td>5400</td>\n",
              "      <td>19</td>\n",
              "      <td>25</td>\n",
              "      <td>22625</td>\n",
              "      <td>4</td>\n",
              "      <td>22625</td>\n",
              "    </tr>\n",
              "  </tbody>\n",
              "</table>\n",
              "<p>205 rows × 28 columns</p>\n",
              "</div>\n",
              "      <button class=\"colab-df-convert\" onclick=\"convertToInteractive('df-76979936-b75b-49f7-b1a2-a3dad3532a20')\"\n",
              "              title=\"Convert this dataframe to an interactive table.\"\n",
              "              style=\"display:none;\">\n",
              "        \n",
              "  <svg xmlns=\"http://www.w3.org/2000/svg\" height=\"24px\"viewBox=\"0 0 24 24\"\n",
              "       width=\"24px\">\n",
              "    <path d=\"M0 0h24v24H0V0z\" fill=\"none\"/>\n",
              "    <path d=\"M18.56 5.44l.94 2.06.94-2.06 2.06-.94-2.06-.94-.94-2.06-.94 2.06-2.06.94zm-11 1L8.5 8.5l.94-2.06 2.06-.94-2.06-.94L8.5 2.5l-.94 2.06-2.06.94zm10 10l.94 2.06.94-2.06 2.06-.94-2.06-.94-.94-2.06-.94 2.06-2.06.94z\"/><path d=\"M17.41 7.96l-1.37-1.37c-.4-.4-.92-.59-1.43-.59-.52 0-1.04.2-1.43.59L10.3 9.45l-7.72 7.72c-.78.78-.78 2.05 0 2.83L4 21.41c.39.39.9.59 1.41.59.51 0 1.02-.2 1.41-.59l7.78-7.78 2.81-2.81c.8-.78.8-2.07 0-2.86zM5.41 20L4 18.59l7.72-7.72 1.47 1.35L5.41 20z\"/>\n",
              "  </svg>\n",
              "      </button>\n",
              "      \n",
              "  <style>\n",
              "    .colab-df-container {\n",
              "      display:flex;\n",
              "      flex-wrap:wrap;\n",
              "      gap: 12px;\n",
              "    }\n",
              "\n",
              "    .colab-df-convert {\n",
              "      background-color: #E8F0FE;\n",
              "      border: none;\n",
              "      border-radius: 50%;\n",
              "      cursor: pointer;\n",
              "      display: none;\n",
              "      fill: #1967D2;\n",
              "      height: 32px;\n",
              "      padding: 0 0 0 0;\n",
              "      width: 32px;\n",
              "    }\n",
              "\n",
              "    .colab-df-convert:hover {\n",
              "      background-color: #E2EBFA;\n",
              "      box-shadow: 0px 1px 2px rgba(60, 64, 67, 0.3), 0px 1px 3px 1px rgba(60, 64, 67, 0.15);\n",
              "      fill: #174EA6;\n",
              "    }\n",
              "\n",
              "    [theme=dark] .colab-df-convert {\n",
              "      background-color: #3B4455;\n",
              "      fill: #D2E3FC;\n",
              "    }\n",
              "\n",
              "    [theme=dark] .colab-df-convert:hover {\n",
              "      background-color: #434B5C;\n",
              "      box-shadow: 0px 1px 3px 1px rgba(0, 0, 0, 0.15);\n",
              "      filter: drop-shadow(0px 1px 2px rgba(0, 0, 0, 0.3));\n",
              "      fill: #FFFFFF;\n",
              "    }\n",
              "  </style>\n",
              "\n",
              "      <script>\n",
              "        const buttonEl =\n",
              "          document.querySelector('#df-76979936-b75b-49f7-b1a2-a3dad3532a20 button.colab-df-convert');\n",
              "        buttonEl.style.display =\n",
              "          google.colab.kernel.accessAllowed ? 'block' : 'none';\n",
              "\n",
              "        async function convertToInteractive(key) {\n",
              "          const element = document.querySelector('#df-76979936-b75b-49f7-b1a2-a3dad3532a20');\n",
              "          const dataTable =\n",
              "            await google.colab.kernel.invokeFunction('convertToInteractive',\n",
              "                                                     [key], {});\n",
              "          if (!dataTable) return;\n",
              "\n",
              "          const docLinkHtml = 'Like what you see? Visit the ' +\n",
              "            '<a target=\"_blank\" href=https://colab.research.google.com/notebooks/data_table.ipynb>data table notebook</a>'\n",
              "            + ' to learn more about interactive tables.';\n",
              "          element.innerHTML = '';\n",
              "          dataTable['output_type'] = 'display_data';\n",
              "          await google.colab.output.renderOutput(dataTable, element);\n",
              "          const docLink = document.createElement('div');\n",
              "          docLink.innerHTML = docLinkHtml;\n",
              "          element.appendChild(docLink);\n",
              "        }\n",
              "      </script>\n",
              "    </div>\n",
              "  </div>\n",
              "  "
            ]
          },
          "metadata": {},
          "execution_count": 35
        }
      ]
    },
    {
      "cell_type": "markdown",
      "metadata": {
        "id": "g4mQp9Oe-pe2"
      },
      "source": [
        "# <b> Problem 7 : Print the total number of cars manufactured by each company"
      ]
    },
    {
      "cell_type": "code",
      "metadata": {
        "id": "Ha-DcEwR-pe2",
        "outputId": "cc420ff1-2c93-4252-d121-5c08edeb5aa1",
        "colab": {
          "base_uri": "https://localhost:8080/"
        }
      },
      "source": [
        "# Your code here\n",
        "df_new['make'].value_counts()"
      ],
      "execution_count": null,
      "outputs": [
        {
          "output_type": "execute_result",
          "data": {
            "text/plain": [
              "toyota           32\n",
              "nissan           18\n",
              "mazda            17\n",
              "mitsubishi       13\n",
              "honda            13\n",
              "volkswagen       12\n",
              "subaru           12\n",
              "peugot           11\n",
              "volvo            11\n",
              "dodge             9\n",
              "mercedes-benz     8\n",
              "bmw               8\n",
              "audi              7\n",
              "plymouth          7\n",
              "saab              6\n",
              "porsche           5\n",
              "isuzu             4\n",
              "jaguar            3\n",
              "chevrolet         3\n",
              "alfa-romero       3\n",
              "renault           2\n",
              "mercury           1\n",
              "Name: make, dtype: int64"
            ]
          },
          "metadata": {},
          "execution_count": 34
        }
      ]
    },
    {
      "cell_type": "markdown",
      "metadata": {
        "id": "ISvNXTil-pfD"
      },
      "source": [
        "# <b> Problem 8 : Create a new column for the updated price. This updated price will be calculated on top of the given price - if the engine is in front, price will be same else if the engine is in rear, price will be doubled </b>\n"
      ]
    },
    {
      "cell_type": "code",
      "metadata": {
        "id": "uAxTru2g-pfE"
      },
      "source": [
        "# Your code here. Use apply and lambda\n",
        "def updated_price(column1,column2):\n",
        "  if column1=='front':\n",
        "    return column2\n",
        "  else:\n",
        "    return column2*2\n",
        "df_new['updated price']=df.apply(lambda x: updated_price(x['engine-location'],x['price']),axis=1)"
      ],
      "execution_count": null,
      "outputs": []
    },
    {
      "cell_type": "code",
      "source": [
        "df_new['engine-location'].unique()"
      ],
      "metadata": {
        "id": "Ug-zqOKXdC0I",
        "outputId": "59244a6f-72cb-4e3e-ac4f-7dcba11f529a",
        "colab": {
          "base_uri": "https://localhost:8080/"
        }
      },
      "execution_count": null,
      "outputs": [
        {
          "output_type": "execute_result",
          "data": {
            "text/plain": [
              "array(['front', 'rear'], dtype=object)"
            ]
          },
          "metadata": {},
          "execution_count": 21
        }
      ]
    },
    {
      "cell_type": "markdown",
      "metadata": {
        "id": "_ZSbVXEl-pfJ"
      },
      "source": [
        "# <b>Problem 9 : Sort the dataframe by car and price columns"
      ]
    },
    {
      "cell_type": "code",
      "metadata": {
        "id": "IhYvJzXh-pfK"
      },
      "source": [
        "# Your code here\n",
        "df_new[['make','price']].sort_values(by='price')\n"
      ],
      "execution_count": null,
      "outputs": []
    },
    {
      "cell_type": "markdown",
      "metadata": {
        "id": "7FrpY5oAVJny"
      },
      "source": [
        "# <b> Problem 10 : Create a new column which stores the number of doors in a car as integers. "
      ]
    },
    {
      "cell_type": "code",
      "metadata": {
        "id": "JA1sGbTWVa_O"
      },
      "source": [
        "# Your code here. Use apply\n",
        "def convert_to_num(column):\n",
        "  if column=='two':\n",
        "    return 2\n",
        "  else:\n",
        "    return 4\n",
        "df_new['door integers']=df['num-of-doors'].apply(convert_to_num)\n"
      ],
      "execution_count": null,
      "outputs": []
    },
    {
      "cell_type": "markdown",
      "metadata": {
        "id": "lXyj2eMQ-pfX"
      },
      "source": [
        "# <b>Problem 11 : Concatenate the two data frames given below firstly row wise and secondly column wise.</b>\n",
        "\n",
        "<code>GermanCars = {'Company': ['Ford', 'Mercedes', 'BMV', 'Audi'], 'Price': [23845, 171995, 135925 , 71400]}</code>\n",
        "\n",
        "<code>japaneseCars = {'Company': ['Toyota', 'Honda', 'Nissan', 'Mitsubishi '], 'Price': [29995, 23600, 61500 , 58900]}</code>"
      ]
    },
    {
      "cell_type": "code",
      "metadata": {
        "id": "jkLzShbM-pfY",
        "outputId": "0c1e02f5-25bb-4ccf-9a14-370fadaa07a5",
        "colab": {
          "base_uri": "https://localhost:8080/"
        }
      },
      "source": [
        "# Your code here\n",
        "from pandas.core.reshape.concat import concat\n",
        "from pandas.core.frame import DataFrame\n",
        "# Your code here\n",
        "GermanCars = {'Company': ['Ford', 'Mercedes', 'BMV', 'Audi'], 'Price': [23845, 171995, 135925 , 71400]}\n",
        "\n",
        "japaneseCars ={'Company': ['Toyota', 'Honda', 'Nissan', 'Mitsubishi '], 'Price': [29995, 23600, 61500 , 58900]}\n",
        "\n",
        "df1,df2=DataFrame(GermanCars),DataFrame(japaneseCars)\n",
        "[df1,df2]\n",
        "print(pd.concat([df1,df2],axis=1))\n",
        "print(pd.concat([df1,df2],axis=0))"
      ],
      "execution_count": null,
      "outputs": [
        {
          "output_type": "stream",
          "name": "stdout",
          "text": [
            "    Company   Price      Company  Price\n",
            "0      Ford   23845       Toyota  29995\n",
            "1  Mercedes  171995        Honda  23600\n",
            "2       BMV  135925       Nissan  61500\n",
            "3      Audi   71400  Mitsubishi   58900\n",
            "       Company   Price\n",
            "0         Ford   23845\n",
            "1     Mercedes  171995\n",
            "2          BMV  135925\n",
            "3         Audi   71400\n",
            "0       Toyota   29995\n",
            "1        Honda   23600\n",
            "2       Nissan   61500\n",
            "3  Mitsubishi    58900\n"
          ]
        }
      ]
    }
  ]
}